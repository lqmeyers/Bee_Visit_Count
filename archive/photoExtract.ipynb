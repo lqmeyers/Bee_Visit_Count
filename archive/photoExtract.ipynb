{
 "cells": [
  {
   "cell_type": "code",
   "execution_count": 2,
   "metadata": {},
   "outputs": [],
   "source": [
    "import sys \n",
    "import os \n",
    "\n",
    "sys.path.insert(0, '/mnt/c/Users/lqmey/OneDrive//Desktop/Bee_Visit_Count/')\n",
    "\n",
    "from photos import photoSet\n",
    "\n",
    "vidFile = '/home/lqmeyers/SLEAP_files/Bee_vids/2022_06_20_vids/f0x2022_06_20.mp4'"
   ]
  },
  {
   "cell_type": "code",
   "execution_count": 4,
   "metadata": {},
   "outputs": [
    {
     "name": "stdout",
     "output_type": "stream",
     "text": [
      "\n",
      "CommandNotFoundError: Your shell has not been properly configured to use 'conda activate'.\n",
      "To initialize your shell, run\n",
      "\n",
      "    $ conda init <SHELL_NAME>\n",
      "\n",
      "Currently supported shells are:\n",
      "  - bash\n",
      "  - fish\n",
      "  - tcsh\n",
      "  - xonsh\n",
      "  - zsh\n",
      "  - powershell\n",
      "\n",
      "See 'conda init --help' for more information and options.\n",
      "\n",
      "IMPORTANT: You may need to close and restart your shell after running 'conda init'.\n",
      "\n",
      "\n"
     ]
    }
   ],
   "source": [
    "!conda activate sleap"
   ]
  },
  {
   "cell_type": "code",
   "execution_count": 3,
   "metadata": {},
   "outputs": [
    {
     "name": "stdout",
     "output_type": "stream",
     "text": [
      "/bin/bash: sleap-track: command not found\n"
     ]
    }
   ],
   "source": [
    "!sleap-track /home/lqmeyers/SLEAP_files/Bee_vids/2022_06_20_vids/f0x2022_06_20.mp4 \\\n",
    "  -m ./models/221122_135029.centroid.n=198 \\\n",
    "  -m ./models/221122_135029.centroid.n=198/221122_135029.centered_instance \\\n",
    "  --tracking.tracker simple \\"
   ]
  },
  {
   "cell_type": "code",
   "execution_count": null,
   "metadata": {},
   "outputs": [],
   "source": [
    "outName = 'os something'\n",
    "outH5 = 'os something else'\n",
    "\n",
    "#!sleap-convert --format analysis -o \"./fixed3x6_22_22_test.mp4.predictions.analysis.h5.h\" \"./fixed3x6_22_22_test.mp4.predictions.slp\"\n",
    "!sleap-convert --format analysis -o outH5 outName"
   ]
  },
  {
   "cell_type": "code",
   "execution_count": null,
   "metadata": {},
   "outputs": [],
   "source": []
  },
  {
   "cell_type": "code",
   "execution_count": 2,
   "metadata": {},
   "outputs": [
    {
     "data": {
      "text/plain": [
       "'/mnt/c/Users/lqmey/OneDrive/Desktop/Bee_Visit_Count/Notebooks'"
      ]
     },
     "execution_count": 2,
     "metadata": {},
     "output_type": "execute_result"
    }
   ],
   "source": [
    "read = p.photoSet(outH5,VidFile)\n",
    "\n",
    "from track_data_exploratory import showHist\n",
    "showHist(read.instScores)"
   ]
  }
 ],
 "metadata": {
  "kernelspec": {
   "display_name": "Python 3.9.13 ('base')",
   "language": "python",
   "name": "python3"
  },
  "language_info": {
   "codemirror_mode": {
    "name": "ipython",
    "version": 3
   },
   "file_extension": ".py",
   "mimetype": "text/x-python",
   "name": "python",
   "nbconvert_exporter": "python",
   "pygments_lexer": "ipython3",
   "version": "3.9.13"
  },
  "orig_nbformat": 4,
  "vscode": {
   "interpreter": {
    "hash": "cc823db24b9d8080966d8fbe0b0da873d819a2dd241445122194707231a7c6c5"
   }
  }
 },
 "nbformat": 4,
 "nbformat_minor": 2
}
